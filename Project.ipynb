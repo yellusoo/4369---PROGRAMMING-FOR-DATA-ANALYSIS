{
 "cells": [
  {
   "cell_type": "markdown",
   "metadata": {},
   "source": [
    "## Project 1: XXXXXXXXXXXX\n",
    "\n",
    "## AUthor: OOS"
   ]
  },
  {
   "cell_type": "markdown",
   "metadata": {},
   "source": [
    "As part of my research for this project Consulted the following websites:\n",
    "\n",
    "https://www.w3resource.com/python-exercises/numpy/python-numpy-datetime-exercise-4.php\n",
    "https://www.w3resource.com/python-exercises/modules/python-module-random-exercise-5.php\n",
    "https://codereview.stackexchange.com/questions/274169/get-random-time-between-two-time-inputs\n",
    "https://www.statology.org/pandas-generate-random-data/"
   ]
  },
  {
   "cell_type": "code",
   "execution_count": 24,
   "metadata": {},
   "outputs": [
    {
     "name": "stdout",
     "output_type": "stream",
     "text": [
      "        A   B   C   D   E\n",
      "Zero   70  26  98  92  75\n",
      "One    67  82  13  56  27\n",
      "Two    56   4  42  24  18\n",
      "Three  30  62  26  12  99\n",
      "Four   66  62  56  19  24\n",
      "...    ..  ..  ..  ..  ..\n",
      "145    68  16  41  15  85\n",
      "146    18  77  62  55  53\n",
      "147     8  26  72  22   8\n",
      "148    84   2  48   5  34\n",
      "149    22  25  88  63  70\n",
      "\n",
      "[150 rows x 5 columns]\n"
     ]
    }
   ],
   "source": [
    "\n",
    "\n",
    "import pandas as pands\n",
    "\n",
    "import numpy as np\n",
    "df = pands.DataFrame(np.random.randint(0,100,size=(150, 5)), columns=list('ABCDE'))\n",
    "\n",
    "row_names = {0:'Zero', 1:'One',\n",
    "             2:'Two',\n",
    "             3:'Three',\n",
    "             4:'Four',\n",
    "             5:'Five',\n",
    "             6:'Six',\n",
    "             7:'Seven'}\n",
    "\n",
    "df = df.rename(index = row_names)\n",
    "\n",
    "print(df)"
   ]
  }
 ],
 "metadata": {
  "kernelspec": {
   "display_name": "base",
   "language": "python",
   "name": "python3"
  },
  "language_info": {
   "codemirror_mode": {
    "name": "ipython",
    "version": 3
   },
   "file_extension": ".py",
   "mimetype": "text/x-python",
   "name": "python",
   "nbconvert_exporter": "python",
   "pygments_lexer": "ipython3",
   "version": "3.9.13"
  }
 },
 "nbformat": 4,
 "nbformat_minor": 2
}
